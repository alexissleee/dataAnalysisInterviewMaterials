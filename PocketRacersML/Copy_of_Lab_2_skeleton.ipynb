{
  "nbformat": 4,
  "nbformat_minor": 0,
  "metadata": {
    "colab": {
      "provenance": []
    },
    "kernelspec": {
      "name": "python3",
      "display_name": "Python 3"
    },
    "language_info": {
      "name": "python"
    }
  },
  "cells": [
    {
      "cell_type": "markdown",
      "source": [
        "# Lab 2\n",
        "\n",
        "In Lab 2, we will be coding Linear and Logistic regression using only Numpy! You will also be asked to use what you know about gradient descent to tweak the algorithms for better results. While teams should collaborate and help each other, each member of a group should complete their own code.\n",
        "\n",
        "This skeleton is intended to be somewhat sparse in order to give you the opportunity to become familiar with the intuition behind gradient descent and to make you very familiar with Numpy. Please reach out to us for any conceptual/mathematical questions or if you are stuck on something and need a hint - we don't want you spending hours on this!\n",
        "\n",
        "If you are unfamiliar with Numpy, don't worry! There are a ton of great resources on it and the its documentation is very well-written (*cough cough* OpenCV). You can figure our how to do most things with a simple Google Search, but here are some functions, operators, etc. that I found useful in this lab:\n",
        "\n",
        "    .dot() and @, .astype(), .T, unique(), mean(), sum(), inv(), pinv(), reshape(), vstack(), hstack(), .unique(), .concatenate(), .shape(), .any()"
      ],
      "metadata": {
        "id": "muqqV8jeVL_L"
      }
    },
    {
      "cell_type": "markdown",
      "source": [
        "### Some notes on using Colab\n",
        "\n",
        "If you've never used Colab before, this section is for you! Some things to note:\n",
        "\n",
        "* The different boxes in this document are segments of Python code. Many of them contain errors and won't work if you try to run them right away (using the play button on the left). You need to fill in the blanks to make them work!\n",
        "\n",
        "* If you update a block of code, even if you re-run it, you must also re-run all the blocks after it up to the point where you're currently working. They don't run themselves!"
      ],
      "metadata": {
        "id": "SjbC5heN7gvc"
      }
    },
    {
      "cell_type": "code",
      "execution_count": null,
      "metadata": {
        "id": "L5fLK6aADdbb"
      },
      "outputs": [],
      "source": [
        "import numpy as np\n",
        "import csv\n",
        "from numpy.core.memmap import dtype\n",
        "import matplotlib.pyplot as plt\n",
        "\n",
        "# You may use these sklearn tools in your implementation, but no others.\n",
        "from sklearn.model_selection import train_test_split\n",
        "from sklearn.utils import shuffle"
      ]
    },
    {
      "cell_type": "code",
      "source": [
        "from google.colab import drive\n",
        "drive.mount('/content/drive/')"
      ],
      "metadata": {
        "id": "Y_su9yqzaRUT",
        "colab": {
          "base_uri": "https://localhost:8080/"
        },
        "outputId": "9096645c-2fb7-49ea-b6f4-338eaf4a75d3"
      },
      "execution_count": null,
      "outputs": [
        {
          "output_type": "stream",
          "name": "stdout",
          "text": [
            "Mounted at /content/drive/\n"
          ]
        }
      ]
    },
    {
      "cell_type": "code",
      "source": [
        "WEATHER_PATH = '/content/drive/MyDrive/Extracurriculars/IEEE/PocketRacers/weatherHistory.csv'\n",
        "data = np.loadtxt(WEATHER_PATH, delimiter=\",\", dtype=str)\n",
        "data = data[:,1:-1]\n",
        "header = data[0]\n",
        "data = data[1:]\n",
        "print(data)"
      ],
      "metadata": {
        "id": "gzfbZfiOd-QD",
        "colab": {
          "base_uri": "https://localhost:8080/"
        },
        "outputId": "f087ed65-47d7-42ab-faa1-151234b4dd30"
      },
      "execution_count": null,
      "outputs": [
        {
          "output_type": "stream",
          "name": "stdout",
          "text": [
            "[['Partly Cloudy' 'rain' '9.472222222222221' ... '15.826300000000002'\n",
            "  '0.0' '1015.13']\n",
            " ['Partly Cloudy' 'rain' '9.355555555555558' ... '15.826300000000002'\n",
            "  '0.0' '1015.63']\n",
            " ['Mostly Cloudy' 'rain' '9.377777777777778' ... '14.9569' '0.0'\n",
            "  '1015.94']\n",
            " ...\n",
            " ['Partly Cloudy' 'rain' '22.03888888888889' ... '16.1' '0.0' '1015.66']\n",
            " ['Partly Cloudy' 'rain' '21.522222222222222' ... '16.1' '0.0' '1015.95']\n",
            " ['Partly Cloudy' 'rain' '20.438888888888894' ... '15.520400000000002'\n",
            "  '0.0' '1016.16']]\n"
          ]
        }
      ]
    },
    {
      "cell_type": "markdown",
      "source": [
        "##Part 1: Single line fit!\n",
        "\n",
        "In this part of the lab, you will be using only the humidity data to estimate the temperature using linear regression. Then we well compare the results of a single feature linear regression with the closed form solution. Experiment with the learning rate and number of iterations and try to find the optimal learning rate for 40 iterations (we got it to 59.5)."
      ],
      "metadata": {
        "id": "6ednkRXhJw-C"
      }
    },
    {
      "cell_type": "code",
      "source": [
        "# Right now, the data is in one large matrix. Seperate out x as the humidity\n",
        "# and y as the temperature.\n",
        "\n",
        "x = data[:,4]\n",
        "y = data[:,2]\n",
        "x = x.astype('float')\n",
        "y = y.astype('float')"
      ],
      "metadata": {
        "id": "BMM6lhCgcX6C"
      },
      "execution_count": null,
      "outputs": []
    },
    {
      "cell_type": "code",
      "source": [
        "from numpy.lib.nanfunctions import nancumprod\n",
        "# Code the mean squared error function given x, y, a, and b.\n",
        "def MSE(x, y, a, b):\n",
        "  mse = 0\n",
        "  n = len(x)\n",
        "  for i in range(len(x)):\n",
        "      mse += ((y[i] - (a * x[i]) - b) ** 2)\n",
        "  mse = mse / n\n",
        "  return mse\n",
        "\n",
        "# Code the gradient descent function. This will return the new values of a and b\n",
        "# after the gradient has been calculated and the learning rate has been applied.\n",
        "def grad_des(x, y, a, b, learningRate):\n",
        "  sumA = 0\n",
        "  sumB = 0\n",
        "  n = len(x)\n",
        "  for i in range(len(x)):\n",
        "      sumB += ((-2) * (y[i])) + (2 * a * x[i]) + (2 * b)\n",
        "      sumA += (2 * a * (x[i]**2)) - (2 * y[i] * x[i]) + (2 * b * x[i])\n",
        "  sumA = sumA / n\n",
        "  sumB = sumB / n\n",
        "  newA = a - (learningRate * (sumA))\n",
        "  newB = b - (learningRate * (sumB))\n",
        "\n",
        "  returnAandB = [newA, newB]\n",
        "  return returnAandB\n",
        "\n"
      ],
      "metadata": {
        "id": "jloJFPgkcYhA"
      },
      "execution_count": null,
      "outputs": []
    },
    {
      "cell_type": "markdown",
      "source": [
        "(buffer) (buffer) (buffer) (buffer) (buffer) (buffer) (buffer) (buffer) (buffer) (buffer) (buffer) (buffer) (buffer) (buffer) (buffer) (buffer) (buffer) (buffer) (buffer) (buffer) (buffer) (buffer) (buffer) (buffer) (buffer) (buffer) (buffer) (buffer) (buffer) (buffer) (buffer) (buffer) (buffer) (buffer) (buffer) (buffer) (buffer) (buffer) (buffer) (buffer) (buffer) (buffer) (buffer) (buffer) (buffer) (buffer) (buffer) (buffer) (buffer) (buffer) (buffer) (buffer) (buffer) (buffer) (buffer) (buffer) (buffer) (buffer) (buffer) (buffer) (buffer) (buffer) (buffer) (buffer) (buffer) (buffer) (buffer) (buffer) (buffer) (buffer) (buffer) (buffer) (buffer) (buffer) (buffer) (buffer) (buffer)\n"
      ],
      "metadata": {
        "id": "_Ut7bOwdj_kr"
      }
    },
    {
      "cell_type": "code",
      "source": [
        "# Initialize a and b\n",
        "a = -0.04\n",
        "b = 40\n",
        "lr = 0.1# Set the learning rate.\n",
        "\n",
        "losses = []\n",
        "for i in range(40):\n",
        "  losses.append(MSE(x, y, a, b))\n",
        "  newAandB = grad_des(x, y, a, b, lr)\n",
        "  a = newAandB[0]\n",
        "  b = newAandB[1]\n",
        "  # Update a and b using the values from your gradient descent function.\n",
        "\n",
        "print(f\"Final Training Loss: {losses[-1]}\")\n",
        "plt.plot(losses)\n",
        "plt.title(\"single feature loss over time\")"
      ],
      "metadata": {
        "id": "g5aW2pfhcvCB",
        "colab": {
          "base_uri": "https://localhost:8080/",
          "height": 488
        },
        "outputId": "cbf2d6dc-1c6e-488f-b593-4fcf43cd530d"
      },
      "execution_count": null,
      "outputs": [
        {
          "output_type": "stream",
          "name": "stdout",
          "text": [
            "Final Training Loss: 62.439703299894234\n"
          ]
        },
        {
          "output_type": "execute_result",
          "data": {
            "text/plain": [
              "Text(0.5, 1.0, 'single feature loss over time')"
            ]
          },
          "metadata": {},
          "execution_count": 7
        },
        {
          "output_type": "display_data",
          "data": {
            "text/plain": [
              "<Figure size 640x480 with 1 Axes>"
            ],
            "image/png": "[encoded data removed]"
          },
          "metadata": {}
        }
      ]
    },
    {
      "cell_type": "markdown",
      "source": [
        "This is your **loss graph**. Hang onto it, because you'll need it later for the checkoff.\n",
        "\n",
        "In addition, remember what we taught you guys about how your training should improve the loss: it should decay towards a minimum as the gradient descent iterations continue. Pay attention to the y-axis here, which indicates the loss. If your error blows up towards infinity or doesn't decrease very quickly, you should be able to recognize and rectify the issue with your hyperparameters!"
      ],
      "metadata": {
        "id": "2MNDAPUytKMz"
      }
    },
    {
      "cell_type": "code",
      "source": [
        "# Let's take a look at what our line of best fit looks like!\n",
        "plt.scatter(x, y)\n",
        "plt.plot(x, a*x+b, color='orange')"
      ],
      "metadata": {
        "id": "fQkqljmFOhU-",
        "colab": {
          "base_uri": "https://localhost:8080/",
          "height": 448
        },
        "outputId": "6477a1cf-4d15-43c4-d43a-91b952d167df"
      },
      "execution_count": null,
      "outputs": [
        {
          "output_type": "execute_result",
          "data": {
            "text/plain": [
              "[<matplotlib.lines.Line2D at 0x7bd5aa9575b0>]"
            ]
          },
          "metadata": {},
          "execution_count": 8
        },
        {
          "output_type": "display_data",
          "data": {
            "text/plain": [
              "<Figure size 640x480 with 1 Axes>"
            ],
            "image/png": "[encoded data removed]"
          },
          "metadata": {}
        }
      ]
    },
    {
      "cell_type": "code",
      "source": [
        "# Now let's find the true optimal solution using the closed form equation. Use\n",
        "# np.polyfit or other such functions only to check your work.\n",
        "# Don't forget what you need to add to the X matrix in order for the closed form\n",
        "# to work!\n",
        "\n",
        "bigX = np.column_stack((x, np.ones_like(x)))\n",
        "th = np.linalg.inv(bigX.T @ bigX) @ bigX.T @y\n",
        "\n",
        "a1, b1 = th\n",
        "print(th)"
      ],
      "metadata": {
        "id": "pxGDtLifABtp",
        "colab": {
          "base_uri": "https://localhost:8080/"
        },
        "outputId": "b42377cc-ad2b-48e0-e538-7b21c8f35c8f"
      },
      "execution_count": null,
      "outputs": [
        {
          "output_type": "stream",
          "name": "stdout",
          "text": [
            "[-30.89438376  34.63692913]\n"
          ]
        }
      ]
    },
    {
      "cell_type": "code",
      "source": [
        "# Compare our closed form with our gradient descent. The closed form solution\n",
        "# should be the same thing as the result of polyfit.\n",
        "\n",
        "a2, b2 = np.polyfit(x, y, 1)\n",
        "print(f\"Grad Desc:   a: {a} b: {b} MSE: {MSE(x, y, a, b)}\")\n",
        "print(f\"Closed form: a: {a1} b: {b1} MSE: {MSE(x, y, a1, b1)}\")\n",
        "print(f\"Poly Fit:    a: {a2} b: {b2}\")\n",
        "\n",
        "plt.scatter(x, y)\n",
        "plt.plot(x, a*x+b, color='orange')\n",
        "plt.plot(x, a1*x+b1, color='yellow')\n",
        "plt.title(\"closed and gd best fit lines\")"
      ],
      "metadata": {
        "id": "3CPIwSJGPeuL",
        "colab": {
          "base_uri": "https://localhost:8080/",
          "height": 523
        },
        "outputId": "170027f8-2778-4139-de9a-1bbed4bd9955"
      },
      "execution_count": null,
      "outputs": [
        {
          "output_type": "stream",
          "name": "stdout",
          "text": [
            "Grad Desc:   a: -16.85160797980631 b: 24.056723620679048 MSE: 62.36436180683627\n",
            "Closed form: a: -30.894383758050832 b: 34.63692912688918 MSE: 54.76182980771795\n",
            "Poly Fit:    a: -30.894383758051426 b: 34.63692912688962\n"
          ]
        },
        {
          "output_type": "execute_result",
          "data": {
            "text/plain": [
              "Text(0.5, 1.0, 'closed and gd best fit lines')"
            ]
          },
          "metadata": {},
          "execution_count": 10
        },
        {
          "output_type": "display_data",
          "data": {
            "text/plain": [
              "<Figure size 640x480 with 1 Axes>"
            ],
            "image/png": "[encoded data removed]"
          },
          "metadata": {}
        }
      ]
    },
    {
      "cell_type": "markdown",
      "source": [
        "To get checked off for this part, submit screenshots of the following in the submission form:\n",
        "- loss graph\n",
        "- the graph with your 2 best fit lines\n",
        "- the final MSE for your gradient descent and closed form solutions\n",
        "- your grad_des function"
      ],
      "metadata": {
        "id": "DRQny2AxyYno"
      }
    },
    {
      "cell_type": "markdown",
      "source": [
        "##Part 2: Multiple input features\n",
        "\n",
        "In this part we will modify our gradient descent function to accept all of the possible input features. This will require converting the precipitation type and weather summaries to one-hot encodings (see slides 20-25 and 33). Then we will have to change our equations to be in matrix notation."
      ],
      "metadata": {
        "id": "7epkPYWlQ4nZ"
      }
    },
    {
      "cell_type": "code",
      "source": [
        "# First, lets get our x and y data one-hot encoded.\n",
        "# hot_X should be the data where the categorical fields are converted into\n",
        "#     one-hot encodings (temperature data excluded).\n",
        "# As a sanity check, the dimensions should be (96453, 38).\n",
        "# hot_y should still just be the temperature data.\n",
        "\n",
        "\n",
        "def one_hot(array):\n",
        "    unique, inverse = np.unique(array, return_inverse=True)\n",
        "    onehot = np.eye(unique.shape[0])[inverse]\n",
        "    return onehot\n",
        "\n",
        "hot_x = np.concatenate((one_hot(data[:, 0]), one_hot(data[:, 1])), 1)\n",
        "hot_x = np.column_stack((hot_x, data[:, 3], data[:, 4], data[:, 5], data[:, 6], data[:, 7], data[:, 8], data[:, 9], np.ones(len(data[:, 0]))))\n",
        "\n",
        "hot_y = y.reshape(96453, 1)\n",
        "hot_x = hot_x.reshape(96453, 38)\n",
        "hot_X = hot_x.astype(float)\n",
        "hot_y = hot_y.astype(float)\n"
      ],
      "metadata": {
        "id": "xf5Xh3bTDyt7"
      },
      "execution_count": null,
      "outputs": []
    },
    {
      "cell_type": "markdown",
      "source": [
        "Now update your gradient descent and Mean Squared Error function to be able to learn from multiple features. See how low you can get the error after 40 iterations.\n",
        "\n",
        "You may notice a higher error than we got in part 1, especially when compared with an extrememly low closed form error. Think about why this may be the case and what hyperparameters you can tune to improve this."
      ],
      "metadata": {
        "id": "LPj6pbr5ZlWY"
      }
    },
    {
      "cell_type": "code",
      "source": [
        "def grad_des2(X, y, theta, learnRate):\n",
        "  #Code!\n",
        "  n = len(y)\n",
        "  dt = theta - (learnRate * ((-2 * X.T @ y + 2 * X.T @ X @ theta) / n))\n",
        "  return dt\n",
        "\n",
        "def MSE2(x, y, theta):\n",
        "  #Code!\n",
        "  n = len(y)\n",
        "  error = ((y - (x @ theta)).T @ (y - (x @ theta))) / n\n",
        "  return error[0]"
      ],
      "metadata": {
        "id": "ER3-CeSzlGZ-"
      },
      "execution_count": null,
      "outputs": []
    },
    {
      "cell_type": "markdown",
      "source": [
        "(buffer) (buffer) (buffer) (buffer) (buffer) (buffer) (buffer) (buffer) (buffer) (buffer) (buffer) (buffer) (buffer) (buffer) (buffer) (buffer) (buffer) (buffer) (buffer) (buffer) (buffer) (buffer) (buffer) (buffer) (buffer) (buffer) (buffer) (buffer) (buffer) (buffer) (buffer) (buffer) (buffer) (buffer) (buffer) (buffer) (buffer) (buffer) (buffer) (buffer) (buffer) (buffer) (buffer) (buffer) (buffer) (buffer) (buffer) (buffer) (buffer) (buffer) (buffer) (buffer) (buffer) (buffer) (buffer) (buffer) (buffer) (buffer) (buffer) (buffer) (buffer) (buffer) (buffer) (buffer) (buffer) (buffer) (buffer) (buffer) (buffer) (buffer) (buffer) (buffer) (buffer) (buffer) (buffer) (buffer) (buffer) (buffer) (buffer) (buffer) (buffer) (buffer) (buffer) (buffer) (buffer) (buffer) (buffer) (buffer) (buffer) (buffer) (buffer) (buffer) (buffer) (buffer) (buffer) (buffer) (buffer) (buffer) (buffer) (buffer) (buffer) (buffer) (buffer) (buffer) (buffer) (buffer) (buffer) (buffer) (buffer) (buffer) (buffer) (buffer) (buffer) (buffer) (buffer) (buffer) (buffer) (buffer) (buffer) (buffer) (buffer) (buffer) (buffer) (buffer) (buffer) (buffer) (buffer) (buffer) (buffer) (buffer) (buffer) (buffer) (buffer) (buffer) (buffer) (buffer) (buffer) (buffer) (buffer) (buffer) (buffer) (buffer) (buffer) (buffer) (buffer) (buffer) (buffer) (buffer) (buffer) (buffer) (buffer) (buffer) (buffer) (buffer) (buffer) (buffer) (buffer) (buffer) (buffer) (buffer) (buffer) (buffer) (buffer) (buffer) (buffer) (buffer) (buffer) (buffer) (buffer) (buffer) (buffer) (buffer) (buffer) (buffer) (buffer) (buffer) (buffer) (buffer) (buffer) (buffer) (buffer) (buffer) (buffer) (buffer) (buffer) (buffer) (buffer) (buffer) (buffer)"
      ],
      "metadata": {
        "id": "Naq5WPfokh-A"
      }
    },
    {
      "cell_type": "code",
      "source": [
        "lr = 0.0000001#set learning rate\n",
        "\n",
        "theta = np.zeros((len(hot_X[0]), 1))\n",
        "\n",
        "losses = []\n",
        "losses.append(MSE2(hot_X, hot_y, theta))\n",
        "\n",
        "for i in range(40):\n",
        "  losses.append(MSE2(hot_X, hot_y, theta))\n",
        "  theta = grad_des2(hot_X, hot_y, theta, lr)\n",
        "\n",
        "print(f\"Final Training Loss: {losses[-1]}\")\n",
        "plt.plot(losses)\n",
        "plt.title(\"Multi feature loss over time\")"
      ],
      "metadata": {
        "id": "KA_3W7uIX7wY",
        "colab": {
          "base_uri": "https://localhost:8080/",
          "height": 488
        },
        "outputId": "8c21dfba-07b9-4ec9-abfc-3f5006a6ffc2"
      },
      "execution_count": null,
      "outputs": [
        {
          "output_type": "stream",
          "name": "stdout",
          "text": [
            "Final Training Loss: [92.84887574]\n"
          ]
        },
        {
          "output_type": "execute_result",
          "data": {
            "text/plain": [
              "Text(0.5, 1.0, 'Multi feature loss over time')"
            ]
          },
          "metadata": {},
          "execution_count": 13
        },
        {
          "output_type": "display_data",
          "data": {
            "text/plain": [
              "<Figure size 640x480 with 1 Axes>"
            ],
            "image/png": "[encoded data removed]"
          },
          "metadata": {}
        }
      ]
    },
    {
      "cell_type": "code",
      "source": [
        "# Now solve for theta using the closed form and compare your final training loss between\n",
        "# the closed form and regression solution\n",
        "\n",
        "th2 = np.linalg.pinv(hot_X.T @ hot_X) @ hot_X.T @ hot_y\n",
        "MSE2(hot_X, hot_y, th2)"
      ],
      "metadata": {
        "id": "NAwYox2IlAwR",
        "colab": {
          "base_uri": "https://localhost:8080/"
        },
        "outputId": "b9517128-72e5-4f02-b2f1-b9afa6cd0d7a"
      },
      "execution_count": null,
      "outputs": [
        {
          "output_type": "execute_result",
          "data": {
            "text/plain": [
              "array([0.88219965])"
            ]
          },
          "metadata": {},
          "execution_count": 16
        }
      ]
    },
    {
      "cell_type": "markdown",
      "source": [
        "As you can (probably) see, the gradient descent error is worse than the single input version and much worse than the closed form solution. Think about why this is and how can improve it (hint: we talked about this technique in our lecture). Copy your code above into the cell below to make any modifications to improve your gradient descent!"
      ],
      "metadata": {
        "id": "ohg09kKbowKh"
      }
    },
    {
      "cell_type": "code",
      "source": [
        "#lr = 0.00000000075 #set learning rate\n",
        "lr = 0.0000009\n",
        "\n",
        "theta = np.zeros((len(hot_X[0]), 1))\n",
        "\n",
        "losses = []\n",
        "\n",
        "# minibatch gradient descent, with shuffle and np.array_split\n",
        "\n",
        "# shuffle rows of hot_X and hot_y\n",
        "hot_Xy = np.column_stack((hot_X, hot_y))\n",
        "shuffle(hot_Xy)\n",
        "# use array_split\n",
        "splitXy = np.array_split(hot_Xy, 1000)\n",
        "\n",
        "for batch in splitXy:\n",
        "  fake_hot_X = batch[:,:-1]\n",
        "  fake_hot_y = batch[:,-1]\n",
        "  fake_hot_y = fake_hot_y.reshape(len(fake_hot_y), 1)\n",
        "  fake_hot_X = fake_hot_X.reshape(len(fake_hot_X), 38)\n",
        "  for i in range(40):\n",
        "    losses.append(MSE2(fake_hot_X, fake_hot_y, theta)) # batch[:,:-1] is hot_X, batch[:, -1] is hot_y\n",
        "    theta = grad_des2(fake_hot_X, fake_hot_y, theta, lr)\n",
        "\n",
        "print(f\"Final Training Loss: {losses[-1]}\")\n",
        "plt.plot(losses)\n",
        "plt.title(\"Modified multi feature loss over time\")"
      ],
      "metadata": {
        "id": "CRt5qgwwlA3z",
        "colab": {
          "base_uri": "https://localhost:8080/",
          "height": 488
        },
        "outputId": "e99de375-a9d2-4afe-9f39-4c8b7f2fc680"
      },
      "execution_count": null,
      "outputs": [
        {
          "output_type": "stream",
          "name": "stdout",
          "text": [
            "Final Training Loss: [1.61166521]\n"
          ]
        },
        {
          "output_type": "execute_result",
          "data": {
            "text/plain": [
              "Text(0.5, 1.0, 'Modified multi feature loss over time')"
            ]
          },
          "metadata": {},
          "execution_count": 17
        },
        {
          "output_type": "display_data",
          "data": {
            "text/plain": [
              "<Figure size 640x480 with 1 Axes>"
            ],
            "image/png": "[encoded data removed]"
          },
          "metadata": {}
        }
      ]
    },
    {
      "cell_type": "markdown",
      "source": [
        "To get checked off for this part, submit screenshots of the following in the submission form:\n",
        "- both of your loss graphs\n",
        "- closed form error\n",
        "- your code for both GD algorithms\n",
        "- an explaination of what you changed and why\n"
      ],
      "metadata": {
        "id": "6xaEPHn-z1mi"
      }
    },
    {
      "cell_type": "markdown",
      "source": [
        "##Part 3: Logistic Regression and K-fold Cross Validation\n",
        "\n",
        "In this part of the lab you will be esimating if someone will suffer a heart attack in the next 10 years based on health statistics. This time, we will be using K-fold cross validation to determine the viability of our model. In lecture, we did not give you the full equation for logistic regression, I suggest deriving it before starting that part of the lab. Try to do it yourself! (The answer should be **simple** - if you are coding a disgusting equation, that is wrong and you should stop.)"
      ],
      "metadata": {
        "id": "24daL8AevMGl"
      }
    },
    {
      "cell_type": "code",
      "source": [
        "HAM_PATH = '/content/drive/MyDrive/Extracurriculars/IEEE/PocketRacers/framingham.csv' # Add the path to your health data here\n",
        "health_data = np.loadtxt(HAM_PATH, delimiter=\",\", dtype=str)\n",
        "\n",
        "\n",
        "# But wait! The data is not complete! Take a look to see what is wrong with it\n",
        "# and remove any offending datapoints (rows) - this is the \"cleaning\" stage of\n",
        "# the ML pipeline.\n",
        "# Challange: do this in one line.\n",
        "health_data = np.delete(health_data[1:], np.any(health_data[1:] == 'NA', axis = 1), axis = 0) # clean health data!\n",
        "print(health_data)"
      ],
      "metadata": {
        "id": "XuXTFje4X-6S",
        "colab": {
          "base_uri": "https://localhost:8080/"
        },
        "outputId": "9f0a1c6a-456a-4d51-b3a7-441e808ee2d3"
      },
      "execution_count": null,
      "outputs": [
        {
          "output_type": "stream",
          "name": "stdout",
          "text": [
            "[['1' '39' '4' ... '80' '77' '0']\n",
            " ['0' '46' '2' ... '95' '76' '0']\n",
            " ['1' '48' '1' ... '75' '70' '0']\n",
            " ...\n",
            " ['1' '50' '1' ... '66' '86' '1']\n",
            " ['1' '51' '3' ... '65' '68' '0']\n",
            " ['0' '52' '2' ... '80' '107' '0']]\n"
          ]
        }
      ]
    },
    {
      "cell_type": "code",
      "source": [
        "# Create your X and Y data and clean it! Binarize the assigned-sex-at-birth\n",
        "# column and add the bias term to your X data\n",
        "\n",
        "health_x = health_data[1:,:-1] # used to be health_x = health_data[1:,1:-1]\n",
        "health_y = health_data[1:,-1]\n",
        "\n",
        "#Clean it up!\n",
        "\n",
        "# adding bias term to X data\n",
        "health_x = np.column_stack((health_x, np.ones(len(health_x))))\n",
        "\n",
        "health_x = health_x.astype('double')\n",
        "health_y = health_y.astype('double')\n",
        "print(health_x)\n",
        "print(health_y)"
      ],
      "metadata": {
        "id": "QjoUIp179B6V",
        "colab": {
          "base_uri": "https://localhost:8080/"
        },
        "outputId": "93cf2fec-d6dc-4a84-c816-48899b5fc83f"
      },
      "execution_count": null,
      "outputs": [
        {
          "output_type": "stream",
          "name": "stdout",
          "text": [
            "[[  0.  46.   2. ...  95.  76.   1.]\n",
            " [  1.  48.   1. ...  75.  70.   1.]\n",
            " [  0.  61.   3. ...  65. 103.   1.]\n",
            " ...\n",
            " [  1.  50.   1. ...  66.  86.   1.]\n",
            " [  1.  51.   3. ...  65.  68.   1.]\n",
            " [  0.  52.   2. ...  80. 107.   1.]]\n",
            "[0. 0. 1. ... 1. 0. 0.]\n"
          ]
        }
      ]
    },
    {
      "cell_type": "code",
      "source": [
        "# Separate your training data into 5 folds for cross validation\n",
        "\n",
        "X_train, X_test, y_train, y_test = train_test_split(health_x, health_y, test_size=0.2, random_state=0)\n",
        "X_train, y_train = shuffle(X_train, y_train)\n",
        "k = 5\n",
        "\n",
        "print(X_train)\n",
        "\n",
        "X_folds = []\n",
        "y_folds = []\n",
        "\n",
        "\n",
        "X_folds = np.array_split(X_train, k)\n",
        "y_folds = np.array_split(y_train, k)\n",
        "\n",
        "print(X_folds)\n",
        "# A quick check:\n",
        "for fold in range(k):\n",
        "  print(X_folds[fold].shape)\n",
        "  print(y_folds[fold].shape)"
      ],
      "metadata": {
        "id": "c1pPkRN53Mig",
        "colab": {
          "base_uri": "https://localhost:8080/"
        },
        "outputId": "c4dd8339-ee6d-411b-cf6c-f6984279fa25"
      },
      "execution_count": null,
      "outputs": [
        {
          "output_type": "stream",
          "name": "stdout",
          "text": [
            "[[ 0. 38.  2. ... 60. 67.  1.]\n",
            " [ 0. 45.  3. ... 66. 67.  1.]\n",
            " [ 1. 43.  4. ... 75. 75.  1.]\n",
            " ...\n",
            " [ 0. 50.  1. ... 96. 60.  1.]\n",
            " [ 1. 41.  2. ... 87. 67.  1.]\n",
            " [ 0. 66.  2. ... 69. 83.  1.]]\n",
            "[array([[  0.,  38.,   2., ...,  60.,  67.,   1.],\n",
            "       [  0.,  45.,   3., ...,  66.,  67.,   1.],\n",
            "       [  1.,  43.,   4., ...,  75.,  75.,   1.],\n",
            "       ...,\n",
            "       [  0.,  52.,   2., ...,  58., 124.,   1.],\n",
            "       [  0.,  48.,   2., ...,  72.,  66.,   1.],\n",
            "       [  0.,  38.,   4., ...,  75.,  89.,   1.]]), array([[ 0., 49.,  3., ..., 80., 66.,  1.],\n",
            "       [ 1., 53.,  1., ..., 90., 83.,  1.],\n",
            "       [ 1., 42.,  2., ..., 80., 58.,  1.],\n",
            "       ...,\n",
            "       [ 0., 46.,  2., ..., 95., 76.,  1.],\n",
            "       [ 0., 45.,  3., ..., 83., 72.,  1.],\n",
            "       [ 1., 42.,  2., ..., 75., 84.,  1.]]), array([[  1.,  48.,   3., ...,  75.,  92.,   1.],\n",
            "       [  0.,  67.,   2., ...,  70.,  87.,   1.],\n",
            "       [  0.,  39.,   1., ...,  85.,  82.,   1.],\n",
            "       ...,\n",
            "       [  0.,  49.,   2., ...,  60.,  80.,   1.],\n",
            "       [  0.,  40.,   2., ...,  60.,  73.,   1.],\n",
            "       [  0.,  58.,   1., ..., 100.,  86.,   1.]]), array([[  1.,  66.,   1., ...,  70.,  91.,   1.],\n",
            "       [  1.,  42.,   1., ...,  90.,  83.,   1.],\n",
            "       [  0.,  43.,   3., ...,  72.,  75.,   1.],\n",
            "       ...,\n",
            "       [  0.,  47.,   1., ...,  82., 320.,   1.],\n",
            "       [  0.,  57.,   1., ...,  75.,  67.,   1.],\n",
            "       [  0.,  51.,   2., ...,  75.,  55.,   1.]]), array([[ 0., 40.,  2., ..., 70., 62.,  1.],\n",
            "       [ 0., 46.,  3., ..., 67., 67.,  1.],\n",
            "       [ 0., 41.,  3., ..., 75., 70.,  1.],\n",
            "       ...,\n",
            "       [ 0., 50.,  1., ..., 96., 60.,  1.],\n",
            "       [ 1., 41.,  2., ..., 87., 67.,  1.],\n",
            "       [ 0., 66.,  2., ..., 69., 83.,  1.]])]\n",
            "(585, 16)\n",
            "(585,)\n",
            "(585, 16)\n",
            "(585,)\n",
            "(585, 16)\n",
            "(585,)\n",
            "(585, 16)\n",
            "(585,)\n",
            "(584, 16)\n",
            "(584,)\n"
          ]
        }
      ]
    },
    {
      "cell_type": "code",
      "source": [
        "# Now lets code all of our relevant equations.\n",
        "\n",
        "def sigmoid(x, theta): # added theta IDK\n",
        "  sigmoid_temp = 1 / (1 + np.exp(-1 * (x @ theta)))\n",
        "  if sigmoid_temp.ndim == 1:\n",
        "    sigmoid = sigmoid_temp\n",
        "  else:\n",
        "    sigmoid = []\n",
        "    for element in sigmoid_temp:\n",
        "      sigmoid.append(element[0])\n",
        "    sigmoid = np.array(sigmoid)\n",
        "\n",
        "  return sigmoid\n",
        "\n",
        "def accuracy(X, y, theta):\n",
        "  #this is just correct/total\n",
        "  y_hat = sigmoid(X, theta)\n",
        "\n",
        "  numCorrect = 0\n",
        "  for i in range(len(y)):\n",
        "    if (y_hat[i] > 0.5 and y[i] == 1):\n",
        "      numCorrect+=1\n",
        "    elif (y_hat[i] < 0.5 and y[i] == 0):\n",
        "      numCorrect+=1\n",
        "\n",
        "  return numCorrect/(len(y))\n",
        "\n",
        "def cross_entropy_loss(X, y, theta):\n",
        "  y_hat = sigmoid(X, theta)\n",
        "  return (-1 * y * np.log(y_hat + 1e-10)) - ((1 - y) * np.log(1 - y_hat + 1e-10))\n",
        "\n",
        "def log_grad_desc(X, y, theta, lr): # added lr here idk\n",
        "  y_hat = sigmoid(X, theta)\n",
        "\n",
        "  N = len(y) # N is number of datapoints that we have\n",
        "  expression = ((X.T) @ (y_hat - y)) / N\n",
        "  return theta - (lr * expression)"
      ],
      "metadata": {
        "id": "8MLzr9k93sd6"
      },
      "execution_count": null,
      "outputs": []
    },
    {
      "cell_type": "markdown",
      "source": [
        "(buffer) (buffer) (buffer) (buffer) (buffer) (buffer) (buffer) (buffer) (buffer) (buffer) (buffer) (buffer) (buffer) (buffer) (buffer) (buffer) (buffer) (buffer) (buffer) (buffer) (buffer) (buffer) (buffer) (buffer) (buffer) (buffer) (buffer) (buffer) (buffer) (buffer) (buffer) (buffer) (buffer) (buffer) (buffer) (buffer) (buffer) (buffer) (buffer) (buffer) (buffer) (buffer) (buffer) (buffer) (buffer) (buffer) (buffer) (buffer) (buffer) (buffer) (buffer) (buffer) (buffer) (buffer) (buffer) (buffer) (buffer) (buffer) (buffer) (buffer) (buffer) (buffer) (buffer)"
      ],
      "metadata": {
        "id": "rcE1rGdRlprD"
      }
    },
    {
      "cell_type": "code",
      "source": [
        "# Now lets validate our model. Use the validation error to tune your\n",
        "#hyperparameters. Also, compare your validation and training errors\n",
        "\n",
        "lr = 0.00000009 # Set learning rate\n",
        "# lr = 6e-10\n",
        "\n",
        "val_losses = []\n",
        "train_losses = []\n",
        "\n",
        "real_X_train = X_train\n",
        "real_y_train = y_train\n",
        "\n",
        "for fold in range(k):\n",
        "  theta = np.random.randn(health_x.shape[1]) # Reinitialize theta\n",
        "  theta = theta.reshape(16,1)\n",
        "\n",
        "  # theta = np.zeros((16, 1))\n",
        "\n",
        "  # Set your validation and training datasets\n",
        "  X_val = X_folds[fold]\n",
        "  y_val = y_folds[fold]\n",
        "\n",
        "  X_train = np.array(np.delete(X_folds, fold, axis = 0), dtype=object)\n",
        "  y_train = np.array(np.delete(y_folds, fold, axis = 0), dtype=object)\n",
        "\n",
        "  for j in range(k - 1):\n",
        "    for i in range(50):\n",
        "    # Do gradient descent\n",
        "      theta = log_grad_desc(X_train[j], y_train[j], theta, lr)\n",
        "\n",
        "    val_losses.append(cross_entropy_loss(X_val, y_val, theta))\n",
        "    train_losses.append(cross_entropy_loss(X_train[j], y_train[j], theta))\n",
        "\n",
        "\n",
        "train_loss_sum = 0\n",
        "len_train_loss = 0\n",
        "for i in range(len(train_losses)):\n",
        "  for j in range(len(train_losses[i])):\n",
        "    train_loss_sum += train_losses[i][j]\n",
        "    len_train_loss += 1\n",
        "\n",
        "val_loss_sum = 0\n",
        "len_val_loss = 0\n",
        "for i in range(len(val_losses)):\n",
        "  for j in range(len(val_losses[i])):\n",
        "    val_loss_sum += val_losses[i][j]\n",
        "    len_val_loss += 1\n",
        "\n",
        "print(f\"train_losses: {train_loss_sum/len_train_loss}\")\n",
        "print(f\"val_losses: {val_loss_sum/len_val_loss}\")"
      ],
      "metadata": {
        "colab": {
          "base_uri": "https://localhost:8080/",
          "height": 358
        },
        "id": "3CyoUYyy48g6",
        "outputId": "4a130dd8-9d07-4c12-ed2f-b102281353a6"
      },
      "execution_count": null,
      "outputs": [
        {
          "output_type": "error",
          "ename": "ValueError",
          "evalue": "setting an array element with a sequence. The requested array has an inhomogeneous shape after 1 dimensions. The detected shape was (5,) + inhomogeneous part.",
          "traceback": [
            "\u001b[0;31m---------------------------------------------------------------------------\u001b[0m",
            "\u001b[0;31mValueError\u001b[0m                                Traceback (most recent call last)",
            "\u001b[0;32m<ipython-input-26-c953b4ac0ff8>\u001b[0m in \u001b[0;36m<cell line: 13>\u001b[0;34m()\u001b[0m\n\u001b[1;32m     21\u001b[0m   \u001b[0my_val\u001b[0m \u001b[0;34m=\u001b[0m \u001b[0my_folds\u001b[0m\u001b[0;34m[\u001b[0m\u001b[0mfold\u001b[0m\u001b[0;34m]\u001b[0m\u001b[0;34m\u001b[0m\u001b[0;34m\u001b[0m\u001b[0m\n\u001b[1;32m     22\u001b[0m \u001b[0;34m\u001b[0m\u001b[0m\n\u001b[0;32m---> 23\u001b[0;31m   \u001b[0mX_train\u001b[0m \u001b[0;34m=\u001b[0m \u001b[0mnp\u001b[0m\u001b[0;34m.\u001b[0m\u001b[0marray\u001b[0m\u001b[0;34m(\u001b[0m\u001b[0mnp\u001b[0m\u001b[0;34m.\u001b[0m\u001b[0mdelete\u001b[0m\u001b[0;34m(\u001b[0m\u001b[0mX_folds\u001b[0m\u001b[0;34m,\u001b[0m \u001b[0mfold\u001b[0m\u001b[0;34m,\u001b[0m \u001b[0maxis\u001b[0m \u001b[0;34m=\u001b[0m \u001b[0;36m0\u001b[0m\u001b[0;34m)\u001b[0m\u001b[0;34m,\u001b[0m \u001b[0mdtype\u001b[0m\u001b[0;34m=\u001b[0m\u001b[0mobject\u001b[0m\u001b[0;34m)\u001b[0m\u001b[0;34m\u001b[0m\u001b[0;34m\u001b[0m\u001b[0m\n\u001b[0m\u001b[1;32m     24\u001b[0m   \u001b[0my_train\u001b[0m \u001b[0;34m=\u001b[0m \u001b[0mnp\u001b[0m\u001b[0;34m.\u001b[0m\u001b[0marray\u001b[0m\u001b[0;34m(\u001b[0m\u001b[0mnp\u001b[0m\u001b[0;34m.\u001b[0m\u001b[0mdelete\u001b[0m\u001b[0;34m(\u001b[0m\u001b[0my_folds\u001b[0m\u001b[0;34m,\u001b[0m \u001b[0mfold\u001b[0m\u001b[0;34m,\u001b[0m \u001b[0maxis\u001b[0m \u001b[0;34m=\u001b[0m \u001b[0;36m0\u001b[0m\u001b[0;34m)\u001b[0m\u001b[0;34m,\u001b[0m \u001b[0mdtype\u001b[0m\u001b[0;34m=\u001b[0m\u001b[0mobject\u001b[0m\u001b[0;34m)\u001b[0m\u001b[0;34m\u001b[0m\u001b[0;34m\u001b[0m\u001b[0m\n\u001b[1;32m     25\u001b[0m \u001b[0;34m\u001b[0m\u001b[0m\n",
            "\u001b[0;32m/usr/local/lib/python3.10/dist-packages/numpy/lib/function_base.py\u001b[0m in \u001b[0;36mdelete\u001b[0;34m(arr, obj, axis)\u001b[0m\n\u001b[1;32m   5242\u001b[0m             \u001b[0;32mpass\u001b[0m\u001b[0;34m\u001b[0m\u001b[0;34m\u001b[0m\u001b[0m\n\u001b[1;32m   5243\u001b[0m \u001b[0;34m\u001b[0m\u001b[0m\n\u001b[0;32m-> 5244\u001b[0;31m     \u001b[0marr\u001b[0m \u001b[0;34m=\u001b[0m \u001b[0masarray\u001b[0m\u001b[0;34m(\u001b[0m\u001b[0marr\u001b[0m\u001b[0;34m)\u001b[0m\u001b[0;34m\u001b[0m\u001b[0;34m\u001b[0m\u001b[0m\n\u001b[0m\u001b[1;32m   5245\u001b[0m     \u001b[0mndim\u001b[0m \u001b[0;34m=\u001b[0m \u001b[0marr\u001b[0m\u001b[0;34m.\u001b[0m\u001b[0mndim\u001b[0m\u001b[0;34m\u001b[0m\u001b[0;34m\u001b[0m\u001b[0m\n\u001b[1;32m   5246\u001b[0m     \u001b[0marrorder\u001b[0m \u001b[0;34m=\u001b[0m \u001b[0;34m'F'\u001b[0m \u001b[0;32mif\u001b[0m \u001b[0marr\u001b[0m\u001b[0;34m.\u001b[0m\u001b[0mflags\u001b[0m\u001b[0;34m.\u001b[0m\u001b[0mfnc\u001b[0m \u001b[0;32melse\u001b[0m \u001b[0;34m'C'\u001b[0m\u001b[0;34m\u001b[0m\u001b[0;34m\u001b[0m\u001b[0m\n",
            "\u001b[0;31mValueError\u001b[0m: setting an array element with a sequence. The requested array has an inhomogeneous shape after 1 dimensions. The detected shape was (5,) + inhomogeneous part."
          ]
        }
      ]
    },
    {
      "cell_type": "code",
      "source": [
        "# Training - once you have tuned your hyperparameters, train your model once\n",
        "# more on all the training data and then test it on the test dataset\n",
        "\n",
        "lr = 0.0000009\n",
        "# theta = np.random.randn(car_x.shape[1])\n",
        "theta = np.random.randn(health_x.shape[1]) # Reinitialize theta\n",
        "theta.reshape(16, 1)\n",
        "\n",
        "X_train = np.array(real_X_train)\n",
        "y_train = np.array(real_y_train)\n",
        "for fold in range(k):\n",
        "  for i in range(50):\n",
        "    #Gradient Descent\n",
        "    theta = log_grad_desc(X_folds[fold], y_folds[fold], theta, lr)\n",
        "\n",
        "\n",
        "print(f\"Testing Accuracy: {accuracy(X_test, y_test, theta)}\")"
      ],
      "metadata": {
        "id": "siykWRXC5TOh",
        "colab": {
          "base_uri": "https://localhost:8080/"
        },
        "outputId": "4630d6b6-1cdf-4171-ed2a-e57eefb90dbf"
      },
      "execution_count": null,
      "outputs": [
        {
          "output_type": "stream",
          "name": "stdout",
          "text": [
            "Testing Accuracy: 0.13953488372093023\n"
          ]
        }
      ]
    },
    {
      "cell_type": "markdown",
      "source": [
        "To be checked off for this part, submit screenshots of the following in the submission form: your code for gradient descent and the resulting training, validation, and testing losses."
      ],
      "metadata": {
        "id": "TOVrfwdN51ey"
      }
    },
    {
      "cell_type": "markdown",
      "source": [
        "Once you submit the form, let us know in your team group chats so we can give you checkoff questions!"
      ],
      "metadata": {
        "id": "8khMl0IpY4g4"
      }
    }
  ]
}